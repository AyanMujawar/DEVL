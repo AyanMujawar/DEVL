{
 "cells": [
  {
   "cell_type": "code",
   "execution_count": 1,
   "metadata": {},
   "outputs": [],
   "source": [
    "import pandas as pd\n",
    "import numpy as np\n",
    "from scipy import stats"
   ]
  },
  {
   "cell_type": "code",
   "execution_count": 4,
   "metadata": {},
   "outputs": [
    {
     "data": {
      "text/plain": [
       "pandas.core.frame.DataFrame"
      ]
     },
     "execution_count": 4,
     "metadata": {},
     "output_type": "execute_result"
    }
   ],
   "source": [
    "#read data\n",
    "movies = pd.read_csv(\"C:/Users/Lenovo/Downloads/friends.csv\")\n",
    "type(movies)"
   ]
  },
  {
   "cell_type": "code",
   "execution_count": 6,
   "metadata": {},
   "outputs": [
    {
     "name": "stdout",
     "output_type": "stream",
     "text": [
      "First few rows of the dataset:\n"
     ]
    },
    {
     "data": {
      "text/html": [
       "<div>\n",
       "<style scoped>\n",
       "    .dataframe tbody tr th:only-of-type {\n",
       "        vertical-align: middle;\n",
       "    }\n",
       "\n",
       "    .dataframe tbody tr th {\n",
       "        vertical-align: top;\n",
       "    }\n",
       "\n",
       "    .dataframe thead th {\n",
       "        text-align: right;\n",
       "    }\n",
       "</style>\n",
       "<table border=\"1\" class=\"dataframe\">\n",
       "  <thead>\n",
       "    <tr style=\"text-align: right;\">\n",
       "      <th></th>\n",
       "      <th>fname</th>\n",
       "      <th>lname</th>\n",
       "      <th>age_gender</th>\n",
       "      <th>section</th>\n",
       "      <th>height(cm)</th>\n",
       "      <th>weight(kg)</th>\n",
       "      <th>age</th>\n",
       "      <th>spend_A</th>\n",
       "      <th>spend_B</th>\n",
       "      <th>spend_C</th>\n",
       "    </tr>\n",
       "  </thead>\n",
       "  <tbody>\n",
       "    <tr>\n",
       "      <th>0</th>\n",
       "      <td>Rahul</td>\n",
       "      <td>Pandey</td>\n",
       "      <td>37_M</td>\n",
       "      <td>B</td>\n",
       "      <td>175.4</td>\n",
       "      <td>85.6</td>\n",
       "      <td>37</td>\n",
       "      <td>1500.0</td>\n",
       "      <td>200.0</td>\n",
       "      <td>300</td>\n",
       "    </tr>\n",
       "    <tr>\n",
       "      <th>1</th>\n",
       "      <td>Rakesh</td>\n",
       "      <td>Kumar</td>\n",
       "      <td>38_M</td>\n",
       "      <td>B</td>\n",
       "      <td>xx</td>\n",
       "      <td>NaN</td>\n",
       "      <td>38</td>\n",
       "      <td>NaN</td>\n",
       "      <td>1000.0</td>\n",
       "      <td>NaN</td>\n",
       "    </tr>\n",
       "    <tr>\n",
       "      <th>2</th>\n",
       "      <td>Nitesh</td>\n",
       "      <td>Mondol</td>\n",
       "      <td>35_M</td>\n",
       "      <td>B</td>\n",
       "      <td>165.1</td>\n",
       "      <td>?</td>\n",
       "      <td>35</td>\n",
       "      <td>500.0</td>\n",
       "      <td>-100.0</td>\n",
       "      <td>200</td>\n",
       "    </tr>\n",
       "    <tr>\n",
       "      <th>3</th>\n",
       "      <td>Arvind</td>\n",
       "      <td>Dwivedi</td>\n",
       "      <td>40_M</td>\n",
       "      <td>A</td>\n",
       "      <td>0</td>\n",
       "      <td>55.6</td>\n",
       "      <td>40</td>\n",
       "      <td>300.0</td>\n",
       "      <td>300.0</td>\n",
       "      <td>xx</td>\n",
       "    </tr>\n",
       "    <tr>\n",
       "      <th>4</th>\n",
       "      <td>Nikhil</td>\n",
       "      <td>Shikharwar</td>\n",
       "      <td>39_M</td>\n",
       "      <td>B</td>\n",
       "      <td>160.8</td>\n",
       "      <td>160</td>\n",
       "      <td>39</td>\n",
       "      <td>200.0</td>\n",
       "      <td>NaN</td>\n",
       "      <td>300</td>\n",
       "    </tr>\n",
       "  </tbody>\n",
       "</table>\n",
       "</div>"
      ],
      "text/plain": [
       "    fname       lname age_gender section height(cm) weight(kg)  age  spend_A  \\\n",
       "0   Rahul      Pandey       37_M       B      175.4       85.6   37   1500.0   \n",
       "1  Rakesh       Kumar       38_M       B         xx        NaN   38      NaN   \n",
       "2  Nitesh      Mondol       35_M       B      165.1          ?   35    500.0   \n",
       "3  Arvind     Dwivedi       40_M       A          0       55.6   40    300.0   \n",
       "4  Nikhil  Shikharwar       39_M       B      160.8        160   39    200.0   \n",
       "\n",
       "   spend_B spend_C  \n",
       "0    200.0     300  \n",
       "1   1000.0     NaN  \n",
       "2   -100.0     200  \n",
       "3    300.0      xx  \n",
       "4      NaN     300  "
      ]
     },
     "execution_count": 6,
     "metadata": {},
     "output_type": "execute_result"
    }
   ],
   "source": [
    "# Display the first few rows of the dataset\n",
    "print(\"First few rows of the dataset:\")\n",
    "movies.head()"
   ]
  },
  {
   "cell_type": "code",
   "execution_count": 9,
   "metadata": {},
   "outputs": [
    {
     "name": "stdout",
     "output_type": "stream",
     "text": [
      "\n",
      "Missing values in the dataset:\n"
     ]
    },
    {
     "data": {
      "text/plain": [
       "fname         0\n",
       "lname         0\n",
       "age_gender    0\n",
       "section       0\n",
       "height(cm)    1\n",
       "weight(kg)    1\n",
       "age           0\n",
       "spend_A       2\n",
       "spend_B       1\n",
       "spend_C       3\n",
       "dtype: int64"
      ]
     },
     "execution_count": 9,
     "metadata": {},
     "output_type": "execute_result"
    }
   ],
   "source": [
    "# data cleaning\n",
    "\n",
    "# Step 1: Handling missing values (drop or fill with mean/median)\n",
    "print(\"\\nMissing values in the dataset:\")\n",
    "\n",
    "movies.isnull().sum()\n"
   ]
  },
  {
   "cell_type": "code",
   "execution_count": 13,
   "metadata": {},
   "outputs": [],
   "source": [
    "# Drop rows with missing values\n",
    "movies_cleaned = movies.dropna()\n",
    "\n",
    "# Alternative: Fill missing values (for numeric columns)\n",
    "# df_cleaned = movies.fillna(df.mean())"
   ]
  },
  {
   "cell_type": "code",
   "execution_count": 14,
   "metadata": {},
   "outputs": [
    {
     "name": "stdout",
     "output_type": "stream",
     "text": [
      "\n",
      "Dataset after handling missing values:\n"
     ]
    },
    {
     "data": {
      "text/html": [
       "<div>\n",
       "<style scoped>\n",
       "    .dataframe tbody tr th:only-of-type {\n",
       "        vertical-align: middle;\n",
       "    }\n",
       "\n",
       "    .dataframe tbody tr th {\n",
       "        vertical-align: top;\n",
       "    }\n",
       "\n",
       "    .dataframe thead th {\n",
       "        text-align: right;\n",
       "    }\n",
       "</style>\n",
       "<table border=\"1\" class=\"dataframe\">\n",
       "  <thead>\n",
       "    <tr style=\"text-align: right;\">\n",
       "      <th></th>\n",
       "      <th>fname</th>\n",
       "      <th>lname</th>\n",
       "      <th>age_gender</th>\n",
       "      <th>section</th>\n",
       "      <th>height(cm)</th>\n",
       "      <th>weight(kg)</th>\n",
       "      <th>age</th>\n",
       "      <th>spend_A</th>\n",
       "      <th>spend_B</th>\n",
       "      <th>spend_C</th>\n",
       "    </tr>\n",
       "  </thead>\n",
       "  <tbody>\n",
       "    <tr>\n",
       "      <th>0</th>\n",
       "      <td>Rahul</td>\n",
       "      <td>Pandey</td>\n",
       "      <td>37_M</td>\n",
       "      <td>B</td>\n",
       "      <td>175.4</td>\n",
       "      <td>85.6</td>\n",
       "      <td>37</td>\n",
       "      <td>1500.0</td>\n",
       "      <td>200.0</td>\n",
       "      <td>300</td>\n",
       "    </tr>\n",
       "    <tr>\n",
       "      <th>2</th>\n",
       "      <td>Nitesh</td>\n",
       "      <td>Mondol</td>\n",
       "      <td>35_M</td>\n",
       "      <td>B</td>\n",
       "      <td>165.1</td>\n",
       "      <td>?</td>\n",
       "      <td>35</td>\n",
       "      <td>500.0</td>\n",
       "      <td>-100.0</td>\n",
       "      <td>200</td>\n",
       "    </tr>\n",
       "    <tr>\n",
       "      <th>3</th>\n",
       "      <td>Arvind</td>\n",
       "      <td>Dwivedi</td>\n",
       "      <td>40_M</td>\n",
       "      <td>A</td>\n",
       "      <td>0</td>\n",
       "      <td>55.6</td>\n",
       "      <td>40</td>\n",
       "      <td>300.0</td>\n",
       "      <td>300.0</td>\n",
       "      <td>xx</td>\n",
       "    </tr>\n",
       "    <tr>\n",
       "      <th>8</th>\n",
       "      <td>Swadesh</td>\n",
       "      <td>Kumar</td>\n",
       "      <td>36_M</td>\n",
       "      <td>C</td>\n",
       "      <td>154.2</td>\n",
       "      <td>60.6</td>\n",
       "      <td>36</td>\n",
       "      <td>100.0</td>\n",
       "      <td>200.0</td>\n",
       "      <td>300</td>\n",
       "    </tr>\n",
       "    <tr>\n",
       "      <th>9</th>\n",
       "      <td>Arun</td>\n",
       "      <td>Vishwakarma</td>\n",
       "      <td>38_M</td>\n",
       "      <td>A</td>\n",
       "      <td>162.1</td>\n",
       "      <td>58.7</td>\n",
       "      <td>38</td>\n",
       "      <td>600.0</td>\n",
       "      <td>200.0</td>\n",
       "      <td>200</td>\n",
       "    </tr>\n",
       "  </tbody>\n",
       "</table>\n",
       "</div>"
      ],
      "text/plain": [
       "     fname        lname age_gender section height(cm) weight(kg)  age  \\\n",
       "0    Rahul       Pandey       37_M       B      175.4       85.6   37   \n",
       "2   Nitesh       Mondol       35_M       B      165.1          ?   35   \n",
       "3   Arvind      Dwivedi       40_M       A          0       55.6   40   \n",
       "8  Swadesh        Kumar       36_M       C      154.2       60.6   36   \n",
       "9     Arun  Vishwakarma       38_M       A      162.1       58.7   38   \n",
       "\n",
       "   spend_A  spend_B spend_C  \n",
       "0   1500.0    200.0     300  \n",
       "2    500.0   -100.0     200  \n",
       "3    300.0    300.0      xx  \n",
       "8    100.0    200.0     300  \n",
       "9    600.0    200.0     200  "
      ]
     },
     "execution_count": 14,
     "metadata": {},
     "output_type": "execute_result"
    }
   ],
   "source": [
    "print(\"\\nDataset after handling missing values:\")\n",
    "movies_cleaned.head()"
   ]
  },
  {
   "cell_type": "code",
   "execution_count": null,
   "metadata": {},
   "outputs": [],
   "source": [
    "# Step 2: Removing outliers using the Z-score method\n",
    "\n",
    "# Define a function to remove outliers based on the Z-score\n",
    "def remove_outliers_zscore(data, threshold=3):\n",
    "    zscores = np.abs(stats.zscore(data.select_dtypes(include=[np.number])))\n",
    "    return data[(zscores < threshold).all(axis=1)]\n",
    "\n",
    "# Apply the function\n",
    "movies_no_outliers = remove_outliers_zscore(movies_cleaned)\n",
    "\n",
    "print(\"\\nDataset after removing outliers:\")\n",
    "print(movies_no_outliers.head())"
   ]
  },
  {
   "cell_type": "code",
   "execution_count": null,
   "metadata": {},
   "outputs": [],
   "source": [
    "# Step 3: Removing outliers using IQR method (optional alternative)\n",
    "def remove_outliers_iqr(data, factor=1.5):\n",
    "    # Select only numeric columns for IQR calculation\n",
    "    numeric_data = data.select_dtypes(include=[np.number])\n",
    "    \n",
    "    Q1 = numeric_data.quantile(0.25)\n",
    "    Q3 = numeric_data.quantile(0.75)\n",
    "    IQR = Q3 - Q1\n",
    "    \n",
    "    # Filter out rows that are outliers based on IQR\n",
    "    filtered_data = numeric_data[~((numeric_data < (Q1 - factor * IQR)) | \n",
    "                                   (numeric_data > (Q3 + factor * IQR))).any(axis=1)]\n",
    "    \n",
    "    # Return the original data but without rows identified as outliers in numeric columns\n",
    "    return data.loc[filtered_data.index]\n",
    "\n",
    "# Apply the function\n",
    "movies_no_outliers_iqr = remove_outliers_iqr(movies_cleaned)\n",
    "\n",
    "# Print the results\n",
    "print(\"\\nDataset after removing outliers using IQR:\")\n",
    "print(movies_no_outliers_iqr.head())\n"
   ]
  },
  {
   "cell_type": "code",
   "execution_count": 16,
   "metadata": {},
   "outputs": [],
   "source": [
    "# You can now proceed with further analysis on movies_no_outliers or movies_no_outliers_iqr\n",
    "\n",
    "def remove_outliers_zscore(data, threshold=3):\n",
    "    zscores = np.abs(stats.zscore(data.select_dtypes(include=[np.number])))\n",
    "    return data[(zscores < threshold).all(axis=1)]"
   ]
  },
  {
   "cell_type": "code",
   "execution_count": null,
   "metadata": {},
   "outputs": [],
   "source": [
    "#1. remove_outliers_zscore, removes outliers using the Z-score method.\n",
    "\n",
    "#2. stats.zscore() calculates Z-scores for numeric columns (ignoring non-numeric columns). A\n",
    "# Z-score represents the number of standard deviations a data point is from the mean.\n",
    "\n",
    "#3. The absolute Z-scores (np.abs()) are compared to the threshold value of 3. Data points\n",
    "# with Z-scores greater than 3 are considered outliers.\n",
    "\n",
    "#4. (z_scores < threshold).all(axis=1) filters out rows where all Z-scores are within the\n",
    "# threshold (less than 3). Rows with outliers are removed."
   ]
  },
  {
   "cell_type": "code",
   "execution_count": null,
   "metadata": {},
   "outputs": [],
   "source": [
    "movies_no_outliers = remove_outliers_zscore(movies_cleaned)\n",
    "print(\"\\nDataset after removing outliers:\")\n",
    "print(movies_no_outliers.head())"
   ]
  },
  {
   "cell_type": "code",
   "execution_count": null,
   "metadata": {},
   "outputs": [],
   "source": [
    "#remove_outliers_zscore(movies_cleaned) applies the Z-score outlier removal function to\n",
    "#the cleaned dataset (movies_cleaned) and assigns the result to movies_no_outliers. The updated\n",
    "#dataset is then printed."
   ]
  },
  {
   "cell_type": "code",
   "execution_count": null,
   "metadata": {},
   "outputs": [],
   "source": [
    "movies_no_outliers_iqr = remove_outliers_iqr(movies_cleaned)\n",
    "print(\"\\nDataset after removing outliers using IQR:\")\n",
    "print(movies_no_outliers_iqr.head())"
   ]
  }
 ],
 "metadata": {
  "kernelspec": {
   "display_name": "Python 3",
   "language": "python",
   "name": "python3"
  },
  "language_info": {
   "codemirror_mode": {
    "name": "ipython",
    "version": 3
   },
   "file_extension": ".py",
   "mimetype": "text/x-python",
   "name": "python",
   "nbconvert_exporter": "python",
   "pygments_lexer": "ipython3",
   "version": "3.12.1"
  }
 },
 "nbformat": 4,
 "nbformat_minor": 2
}
