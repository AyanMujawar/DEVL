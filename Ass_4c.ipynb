{
 "cells": [
  {
   "cell_type": "code",
   "execution_count": 1,
   "metadata": {},
   "outputs": [],
   "source": [
    "import pandas as pd\n",
    "import numpy as np"
   ]
  },
  {
   "cell_type": "code",
   "execution_count": null,
   "metadata": {},
   "outputs": [],
   "source": [
    "#collect data\n",
    "df = pd.read_csv('C:/Users/Ayan/Downloads/pizzas.csv')"
   ]
  },
  {
   "cell_type": "code",
   "execution_count": 3,
   "metadata": {},
   "outputs": [
    {
     "data": {
      "text/html": [
       "<div>\n",
       "<style scoped>\n",
       "    .dataframe tbody tr th:only-of-type {\n",
       "        vertical-align: middle;\n",
       "    }\n",
       "\n",
       "    .dataframe tbody tr th {\n",
       "        vertical-align: top;\n",
       "    }\n",
       "\n",
       "    .dataframe thead th {\n",
       "        text-align: right;\n",
       "    }\n",
       "</style>\n",
       "<table border=\"1\" class=\"dataframe\">\n",
       "  <thead>\n",
       "    <tr style=\"text-align: right;\">\n",
       "      <th></th>\n",
       "      <th>Making Unit 1</th>\n",
       "      <th>Making Unit 2</th>\n",
       "    </tr>\n",
       "  </thead>\n",
       "  <tbody>\n",
       "    <tr>\n",
       "      <th>0</th>\n",
       "      <td>6.8090</td>\n",
       "      <td>6.7703</td>\n",
       "    </tr>\n",
       "    <tr>\n",
       "      <th>1</th>\n",
       "      <td>6.4376</td>\n",
       "      <td>7.5093</td>\n",
       "    </tr>\n",
       "    <tr>\n",
       "      <th>2</th>\n",
       "      <td>6.9157</td>\n",
       "      <td>6.7300</td>\n",
       "    </tr>\n",
       "    <tr>\n",
       "      <th>3</th>\n",
       "      <td>7.3012</td>\n",
       "      <td>6.7878</td>\n",
       "    </tr>\n",
       "  </tbody>\n",
       "</table>\n",
       "</div>"
      ],
      "text/plain": [
       "   Making Unit 1  Making Unit 2\n",
       "0         6.8090         6.7703\n",
       "1         6.4376         7.5093\n",
       "2         6.9157         6.7300\n",
       "3         7.3012         6.7878"
      ]
     },
     "execution_count": 3,
     "metadata": {},
     "output_type": "execute_result"
    }
   ],
   "source": [
    "df.head(4)"
   ]
  },
  {
   "cell_type": "code",
   "execution_count": 4,
   "metadata": {},
   "outputs": [
    {
     "data": {
      "text/plain": [
       "(35, 2)"
      ]
     },
     "execution_count": 4,
     "metadata": {},
     "output_type": "execute_result"
    }
   ],
   "source": [
    "df.shape"
   ]
  },
  {
   "cell_type": "code",
   "execution_count": 5,
   "metadata": {},
   "outputs": [],
   "source": [
    "H0 = 'Data is normal'\n",
    "Ha = 'Data is not normal'\n",
    "alpha = 0.05"
   ]
  },
  {
   "cell_type": "code",
   "execution_count": null,
   "metadata": {},
   "outputs": [],
   "source": [
    "from scipy.stats import shapiro\n",
    "p1 = round(shapiro(df['Making Unit 1'])[1],2)"
   ]
  },
  {
   "cell_type": "code",
   "execution_count": 7,
   "metadata": {},
   "outputs": [
    {
     "name": "stdout",
     "output_type": "stream",
     "text": [
      "0.32\n"
     ]
    }
   ],
   "source": [
    "print(p1)"
   ]
  },
  {
   "cell_type": "code",
   "execution_count": 8,
   "metadata": {},
   "outputs": [],
   "source": [
    "p2 = round(shapiro(df['Making Unit 2'])[1],2)"
   ]
  },
  {
   "cell_type": "code",
   "execution_count": 9,
   "metadata": {},
   "outputs": [
    {
     "name": "stdout",
     "output_type": "stream",
     "text": [
      "0.52\n"
     ]
    }
   ],
   "source": [
    "print(p2)"
   ]
  },
  {
   "cell_type": "code",
   "execution_count": 10,
   "metadata": {},
   "outputs": [
    {
     "name": "stdout",
     "output_type": "stream",
     "text": [
      "0.32 > 0.05. We fail to reject Null Hypothesis for Making Unit 1. Data is normal\n"
     ]
    }
   ],
   "source": [
    "if p1 > alpha:\n",
    "    print(f\"{p1} > {alpha}. We fail to reject Null Hypothesis for Making Unit 1. {H0}\")\n",
    "else:\n",
    "\tprint(f\"{p1} <= {alpha}. We reject Null Hypothesis for Making Unit 1. {Ha}\")"
   ]
  },
  {
   "cell_type": "code",
   "execution_count": 11,
   "metadata": {},
   "outputs": [
    {
     "name": "stdout",
     "output_type": "stream",
     "text": [
      "0.52 > 0.05. We fail to reject Null Hypothesis Making Unit 2. Data is normal\n"
     ]
    }
   ],
   "source": [
    "if p2 > alpha:\n",
    "    print(f\"{p2} > {alpha}. We fail to reject Null Hypothesis Making Unit 2. {H0}\")\n",
    "else:\n",
    "\tprint(f\"{p2} <= {alpha}. We reject Null Hypothesis Making Unit 2. {Ha}\")"
   ]
  },
  {
   "cell_type": "code",
   "execution_count": 12,
   "metadata": {},
   "outputs": [
    {
     "name": "stdout",
     "output_type": "stream",
     "text": [
      "n*** Variances Test Results' ***\n",
      "0.42 > 0.05. We fail to reject Null Hypothesis. Variance of Unit A is approximately equal to Variance of Unit B\n"
     ]
    }
   ],
   "source": [
    "# Defining Null and Alternative Hypotheses\n",
    "H0 = 'Variance of Unit A is approximately equal to Variance of Unit B'\n",
    "\n",
    "Ha = 'Variance of Unit A is not equal to Variance of Unit B'\n",
    "\n",
    "\n",
    "\n",
    "from scipy.stats import levene\n",
    "\n",
    "def check_variances(df):\n",
    "    print('n' + \"*** Variances Test Results' ***\")\n",
    "\n",
    "    p = round(levene(df['Making Unit 1'], df['Making Unit 2'])[1],2)\n",
    "\n",
    "    if p>alpha:\n",
    "\n",
    "        print(f\"{p} > {alpha}. We fail to reject Null Hypothesis. {H0}\")\n",
    "\n",
    "    else:\n",
    "\n",
    "        print(f\"{p} <= {alpha}. We reject Null Hypothesis. {Ha}\")\n",
    "\n",
    "check_variances(df)\n"
   ]
  },
  {
   "cell_type": "code",
   "execution_count": 14,
   "metadata": {},
   "outputs": [
    {
     "name": "stdout",
     "output_type": "stream",
     "text": [
      "n*** 2 Sample T Test Results ***\n",
      "0.47 > 0.05. We fail to reject Null Hypothesis. There is no significant difference.\n"
     ]
    }
   ],
   "source": [
    "H0 = 'There is no significant difference.'\n",
    "\n",
    "Ha = 'There exist a significant difference.'\n",
    "\n",
    " \n",
    "\n",
    "from scipy.stats import ttest_ind\n",
    "\n",
    "def t_test(df):\n",
    "\n",
    "    print('n' + \"*** 2 Sample T Test Results ***\")\n",
    "\n",
    "    test_results = ttest_ind(df['Making Unit 1'], df['Making Unit 2'], equal_var=True)\n",
    "\n",
    "    p = round(test_results[1],2)\n",
    "\n",
    "    if p>alpha:\n",
    "\n",
    "        print(f\"{p} > {alpha}. We fail to reject Null Hypothesis. {H0}\")\n",
    "\n",
    "    else:\n",
    "\n",
    "        print(f\"{p} <= {alpha}. We reject Null Hypothesis. {Ha}\")\n",
    "\n",
    " \n",
    "t_test(df)\n"
   ]
  }
 ],
 "metadata": {
  "kernelspec": {
   "display_name": "Python 3",
   "language": "python",
   "name": "python3"
  },
  "language_info": {
   "codemirror_mode": {
    "name": "ipython",
    "version": 3
   },
   "file_extension": ".py",
   "mimetype": "text/x-python",
   "name": "python",
   "nbconvert_exporter": "python",
   "pygments_lexer": "ipython3",
   "version": "3.12.6"
  }
 },
 "nbformat": 4,
 "nbformat_minor": 2
}
